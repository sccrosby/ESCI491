{
 "cells": [
  {
   "cell_type": "markdown",
   "metadata": {
    "colab_type": "text",
    "id": "VRtFjI0rhols"
   },
   "source": [
    "# Downloading Stream Gauge Data, Average Daily Flows\n",
    "This script will download and save daily averaged discharge values for a given USGS stream gauge for the time period selected. The USGS maintains a large network of stream gauges all over the nation, you can see the gauge sites for Washington State here, https://waterdata.usgs.gov/wa/nwis/rt\n",
    "\n",
    "This script was originally written, Allison Pfeiffer (WWU), and then modified by Sean C. Crosby (USGS)"
   ]
  },
  {
   "cell_type": "code",
   "execution_count": 1,
   "metadata": {
    "colab": {},
    "colab_type": "code",
    "id": "LhajWoIvholw"
   },
   "outputs": [],
   "source": [
    "# Load the necessary python packages\n",
    "import requests\n",
    "import pandas as pd\n",
    "import numpy as np\n",
    "import os"
   ]
  },
  {
   "cell_type": "markdown",
   "metadata": {
    "colab_type": "text",
    "id": "brqOcvf0hol1"
   },
   "source": [
    "Below you will enter the the stream gauge you are interested in. You can look up the stream gauge ID online. Make sure to give sitenum a string. In the next cell enter the dates you are interested in examining. Below I've selected the 2018/2019 water year."
   ]
  },
  {
   "cell_type": "code",
   "execution_count": 2,
   "metadata": {
    "colab": {},
    "colab_type": "code",
    "id": "VkomvDeNhol2"
   },
   "outputs": [],
   "source": [
    "# Enter your site number as a string, for example Ferndale is \"12213100\"\n",
    "sitenum = \"12213100\""
   ]
  },
  {
   "cell_type": "code",
   "execution_count": 3,
   "metadata": {
    "colab": {},
    "colab_type": "code",
    "id": "dXCMPDX7hol5"
   },
   "outputs": [],
   "source": [
    "# Now enter the start and stop times in the format below\n",
    "startdate = \"2017-10-01\"\n",
    "enddate = \"2019-10-01\""
   ]
  },
  {
   "cell_type": "markdown",
   "metadata": {
    "colab_type": "text",
    "id": "NP164LRNhol9"
   },
   "source": [
    "The next section of code downloads the data"
   ]
  },
  {
   "cell_type": "code",
   "execution_count": 4,
   "metadata": {
    "colab": {},
    "colab_type": "code",
    "id": "fAYo52prhol-"
   },
   "outputs": [],
   "source": [
    "# This creates the URL we are going to request\n",
    "url = ('https://waterdata.usgs.gov/nwis/dv?cb_00060=on&cb_00065=on&format=rdb&site_no='\n",
    "       + sitenum\n",
    "       + '&referred_module=sw&period=&begin_date='\n",
    "       + startdate\n",
    "       + '&end_date='\n",
    "       + enddate\n",
    "       )\n",
    "# Here we ask the URL for data\n",
    "response = requests.get(url)\n",
    "data = response.text"
   ]
  },
  {
   "cell_type": "code",
   "execution_count": 5,
   "metadata": {
    "colab": {
     "base_uri": "https://localhost:8080/",
     "height": 714
    },
    "colab_type": "code",
    "executionInfo": {
     "elapsed": 1081,
     "status": "ok",
     "timestamp": 1588005735952,
     "user": {
      "displayName": "Sean Crosby",
      "photoUrl": "https://lh3.googleusercontent.com/a-/AOh14GhCX7zy_Jz5cUA8hBL4g9VAw2XFpalmH_qBf91KDCA=s64",
      "userId": "13169004125921679398"
     },
     "user_tz": 420
    },
    "id": "7kfup4IuhomB",
    "outputId": "d096211b-06bc-488c-ebdf-541a818d0490"
   },
   "outputs": [
    {
     "name": "stdout",
     "output_type": "stream",
     "text": [
      "# ---------------------------------- WARNING ----------------------------------------\n",
      "# Some of the data that you have obtained from this U.S. Geological Survey database\n",
      "# may not have received Director's approval. Any such data values are qualified\n",
      "# as provisional and are subject to revision. Provisional data are released on the\n",
      "# condition that neither the USGS nor the United States Government may be held liable\n",
      "# for any damages resulting from its use.\n",
      "#\n",
      "# Additional info: https://help.waterdata.usgs.gov/policies/provisional-data-statement\n",
      "#\n",
      "# File-format description:  https://help.waterdata.usgs.gov/faq/about-tab-delimited-output\n",
      "# Automated-retrieval info: https://help.waterdata.usgs.gov/faq/automated-retrievals\n",
      "#\n",
      "# Contact:   gs-w_support_nwisweb@usgs.gov\n",
      "# retrieved: 2020-12-20 16:49:09 EST       (sdww02)\n",
      "#\n",
      "# Data for the following 1 site(s) are contained in this file\n",
      "#    USGS 12213100 NOOKSACK RIVER AT FERNDALE, WA\n",
      "# -----------------------------------------------------------------------------------\n",
      "#\n",
      "# Data provided for site 12213100\n",
      "#            TS   parameter     statistic     Description\n",
      "#        149551       00060     00003     Discharge, cubic feet per second (Mean)\n",
      "#        149552       00065     00003     Gage height, feet (Mean)\n",
      "#\n",
      "# Data-value qualification codes included in this output:\n",
      "#     A  Approved for publication -- Processing and review completed.\n",
      "#     R  Records for these data have been revised. [https://waterdata.usgs.gov/usa/nwis/revision/?site_no=12213100&ts_ids=149551]\n",
      "#     e  Value has been estimated.\n",
      "# \n",
      "agency_cd\tsite_no\tdatetime\t149551_00060_00003\t149551_00060_00003_cd\t149552_00065_00003\t149552_00065_00003_cd\n",
      "5s\t15s\t20d\t14n\t10s\t14n\t10s\n",
      "USGS\t12213100\t2017-10-01\t1140\tA\t4.27\tA\n",
      "USGS\t12213100\t2017-10-02\t1020\tA\t4.09\tA\n",
      "USGS\t12213100\t2017-10-03\t866\tA\t3.85\tA\n",
      "USGS\t12213100\t2017-10-04\t786\tA\t3.73\tA\n",
      "USGS\t12213100\t2017-10-05\t744\tA\t3.66\tA\n",
      "USGS\t12213100\t2017-10-06\t723\tA\t3.62\tA\n",
      "USGS\t12213100\t2017-10-07\t916\tA\t3.92\tA\n",
      "USGS\t12213100\t2017-10-08\t1240\t\n"
     ]
    }
   ],
   "source": [
    "# Let's take a quick look at the data we downloaded\n",
    "print(data[0:2000])"
   ]
  },
  {
   "cell_type": "code",
   "execution_count": 6,
   "metadata": {
    "colab": {
     "base_uri": "https://localhost:8080/",
     "height": 34
    },
    "colab_type": "code",
    "executionInfo": {
     "elapsed": 833,
     "status": "ok",
     "timestamp": 1588005781608,
     "user": {
      "displayName": "Sean Crosby",
      "photoUrl": "https://lh3.googleusercontent.com/a-/AOh14GhCX7zy_Jz5cUA8hBL4g9VAw2XFpalmH_qBf91KDCA=s64",
      "userId": "13169004125921679398"
     },
     "user_tz": 420
    },
    "id": "ShFNJ9VDhomE",
    "outputId": "85084a52-0899-4100-c2f9-2f156f5bf40f"
   },
   "outputs": [
    {
     "name": "stdout",
     "output_type": "stream",
     "text": [
      "12213100_Daily.txt\n"
     ]
    }
   ],
   "source": [
    "# Second, we're going to save as a textfile\n",
    "filename = sitenum + '_Daily.txt'\n",
    "print(filename)"
   ]
  },
  {
   "cell_type": "code",
   "execution_count": 7,
   "metadata": {
    "colab": {
     "base_uri": "https://localhost:8080/",
     "height": 122
    },
    "colab_type": "code",
    "executionInfo": {
     "elapsed": 41507,
     "status": "ok",
     "timestamp": 1588005843395,
     "user": {
      "displayName": "Sean Crosby",
      "photoUrl": "https://lh3.googleusercontent.com/a-/AOh14GhCX7zy_Jz5cUA8hBL4g9VAw2XFpalmH_qBf91KDCA=s64",
      "userId": "13169004125921679398"
     },
     "user_tz": 420
    },
    "id": "GmBZpAk8lkSV",
    "outputId": "e3ea0706-8a47-4fb5-e2d1-75500abb0a43",
    "scrolled": true
   },
   "outputs": [
    {
     "ename": "ModuleNotFoundError",
     "evalue": "No module named 'google'",
     "output_type": "error",
     "traceback": [
      "\u001b[0;31m---------------------------------------------------------------------------\u001b[0m",
      "\u001b[0;31mModuleNotFoundError\u001b[0m                       Traceback (most recent call last)",
      "\u001b[0;32m<ipython-input-7-7671d9bf079f>\u001b[0m in \u001b[0;36m<module>\u001b[0;34m\u001b[0m\n\u001b[1;32m      1\u001b[0m \u001b[0;31m# First we must mount our Google Drive, to save files locally. To Do so go to click on the file icon in the left-hand bar, and then click Mount Drive. Follow the instructions provided\u001b[0m\u001b[0;34m\u001b[0m\u001b[0;34m\u001b[0m\u001b[0;34m\u001b[0m\u001b[0m\n\u001b[1;32m      2\u001b[0m \u001b[0;31m# It should create a cell with the following code\u001b[0m\u001b[0;34m\u001b[0m\u001b[0;34m\u001b[0m\u001b[0;34m\u001b[0m\u001b[0m\n\u001b[0;32m----> 3\u001b[0;31m \u001b[0;32mfrom\u001b[0m \u001b[0mgoogle\u001b[0m\u001b[0;34m.\u001b[0m\u001b[0mcolab\u001b[0m \u001b[0;32mimport\u001b[0m \u001b[0mdrive\u001b[0m\u001b[0;34m\u001b[0m\u001b[0;34m\u001b[0m\u001b[0m\n\u001b[0m\u001b[1;32m      4\u001b[0m \u001b[0mdrive\u001b[0m\u001b[0;34m.\u001b[0m\u001b[0mmount\u001b[0m\u001b[0;34m(\u001b[0m\u001b[0;34m'/content/drive'\u001b[0m\u001b[0;34m)\u001b[0m\u001b[0;34m\u001b[0m\u001b[0;34m\u001b[0m\u001b[0m\n",
      "\u001b[0;31mModuleNotFoundError\u001b[0m: No module named 'google'"
     ]
    }
   ],
   "source": [
    "# First we must mount our Google Drive, to save files locally. To Do so go to click on the file icon in the left-hand bar, and then click Mount Drive. Follow the instructions provided\n",
    "# It should create a cell with the following code\n",
    "from google.colab import drive\n",
    "drive.mount('/content/drive')"
   ]
  },
  {
   "cell_type": "code",
   "execution_count": null,
   "metadata": {
    "colab": {
     "base_uri": "https://localhost:8080/",
     "height": 34
    },
    "colab_type": "code",
    "executionInfo": {
     "elapsed": 954,
     "status": "ok",
     "timestamp": 1588006022593,
     "user": {
      "displayName": "Sean Crosby",
      "photoUrl": "https://lh3.googleusercontent.com/a-/AOh14GhCX7zy_Jz5cUA8hBL4g9VAw2XFpalmH_qBf91KDCA=s64",
      "userId": "13169004125921679398"
     },
     "user_tz": 420
    },
    "id": "Rzq79RaVl2Nu",
    "outputId": "22710966-a9fb-4461-cc49-e8811312e90f"
   },
   "outputs": [],
   "source": [
    "# Now we want to navigate to the folder saved our scritpts, for me that is\n",
    "cd '/content/drive/My Drive/Colab Notebooks/ESCI491/RiverDischarge'"
   ]
  },
  {
   "cell_type": "code",
   "execution_count": null,
   "metadata": {
    "colab": {},
    "colab_type": "code",
    "id": "pIYxAcTehomI"
   },
   "outputs": [],
   "source": [
    "# We want to save the text files into the same directory as this .py script.\n",
    "path=os.path.join( os.getcwd(), filename) #gets current directory to put file in\n",
    "file = open(path,'w') #open file\n",
    "file.write(data) #everything we found at that url\n",
    "file.close() #close the file"
   ]
  },
  {
   "cell_type": "code",
   "execution_count": null,
   "metadata": {
    "colab": {
     "base_uri": "https://localhost:8080/",
     "height": 34
    },
    "colab_type": "code",
    "executionInfo": {
     "elapsed": 1131,
     "status": "ok",
     "timestamp": 1588005915557,
     "user": {
      "displayName": "Sean Crosby",
      "photoUrl": "https://lh3.googleusercontent.com/a-/AOh14GhCX7zy_Jz5cUA8hBL4g9VAw2XFpalmH_qBf91KDCA=s64",
      "userId": "13169004125921679398"
     },
     "user_tz": 420
    },
    "id": "v2Ic0qAu6EGh",
    "outputId": "f06416df-94f4-408f-be9d-787e93a05b2f"
   },
   "outputs": [],
   "source": []
  }
 ],
 "metadata": {
  "colab": {
   "collapsed_sections": [],
   "name": "DownloadStreamGauge.ipynb",
   "provenance": []
  },
  "kernelspec": {
   "display_name": "Python 3",
   "language": "python",
   "name": "python3"
  },
  "language_info": {
   "codemirror_mode": {
    "name": "ipython",
    "version": 3
   },
   "file_extension": ".py",
   "mimetype": "text/x-python",
   "name": "python",
   "nbconvert_exporter": "python",
   "pygments_lexer": "ipython3",
   "version": "3.7.4"
  }
 },
 "nbformat": 4,
 "nbformat_minor": 1
}
