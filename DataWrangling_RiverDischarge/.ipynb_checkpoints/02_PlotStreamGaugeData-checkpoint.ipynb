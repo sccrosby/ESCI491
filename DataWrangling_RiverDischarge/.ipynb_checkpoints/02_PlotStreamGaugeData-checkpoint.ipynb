{
 "cells": [
  {
   "cell_type": "markdown",
   "metadata": {
    "colab_type": "text",
    "id": "IcSQ8famm9WC"
   },
   "source": [
    "# Plot Downloaded Stream Gauge Data\n",
    "Here, provide the data file you downloaded. The script will load the data in an plot the discharge\n",
    "We can also perform some statistics such as the mean and maximum during the time frame"
   ]
  },
  {
   "cell_type": "code",
   "execution_count": null,
   "metadata": {
    "colab": {},
    "colab_type": "code",
    "id": "FnMBlah7m9WF"
   },
   "outputs": [],
   "source": [
    "# Load needed packages\n",
    "import pandas as pd\n",
    "import numpy as np\n",
    "import os\n",
    "from matplotlib import pyplot as plt\n",
    "from pandas.plotting import register_matplotlib_converters\n",
    "register_matplotlib_converters()"
   ]
  },
  {
   "cell_type": "code",
   "execution_count": null,
   "metadata": {
    "colab": {
     "base_uri": "https://localhost:8080/",
     "height": 122
    },
    "colab_type": "code",
    "executionInfo": {
     "elapsed": 25058,
     "status": "ok",
     "timestamp": 1588264253187,
     "user": {
      "displayName": "Sean Crosby",
      "photoUrl": "https://lh3.googleusercontent.com/a-/AOh14GhCX7zy_Jz5cUA8hBL4g9VAw2XFpalmH_qBf91KDCA=s64",
      "userId": "13169004125921679398"
     },
     "user_tz": 420
    },
    "id": "_b_dl3-XnWki",
    "outputId": "34351ce2-aaf2-4e54-c1a3-8c9584391bb9"
   },
   "outputs": [],
   "source": [
    "# Here we connect to our google drive (Follow on screen instructions)\n",
    "from google.colab import drive\n",
    "drive.mount('/content/drive')"
   ]
  },
  {
   "cell_type": "code",
   "execution_count": null,
   "metadata": {
    "colab": {
     "base_uri": "https://localhost:8080/",
     "height": 34
    },
    "colab_type": "code",
    "executionInfo": {
     "elapsed": 8171,
     "status": "ok",
     "timestamp": 1588264254802,
     "user": {
      "displayName": "Sean Crosby",
      "photoUrl": "https://lh3.googleusercontent.com/a-/AOh14GhCX7zy_Jz5cUA8hBL4g9VAw2XFpalmH_qBf91KDCA=s64",
      "userId": "13169004125921679398"
     },
     "user_tz": 420
    },
    "id": "7cmt7ohWnaYX",
    "outputId": "dbed3f7a-eef3-4890-f147-d710669f47d5"
   },
   "outputs": [],
   "source": [
    "# Here we naviate to our working folder (yours might be different)\n",
    "cd '/content/drive/My Drive/Colab Notebooks/ESCI491/RiverDischarge'"
   ]
  },
  {
   "cell_type": "markdown",
   "metadata": {
    "colab_type": "text",
    "id": "9T6pVED3m9WJ"
   },
   "source": [
    "Below you must specify the file you would like to load. Make sure this file is in the same folder as this script, othwerwise you should provide the full file path"
   ]
  },
  {
   "cell_type": "code",
   "execution_count": null,
   "metadata": {
    "colab": {},
    "colab_type": "code",
    "id": "oDjWRXhQm9WK"
   },
   "outputs": [],
   "source": [
    "# Provide the filename of the downloaded data, \n",
    "# use the full path if the script is not in the same folder!\n",
    "filename = '12213100_Daily.txt'"
   ]
  },
  {
   "cell_type": "code",
   "execution_count": null,
   "metadata": {
    "colab": {
     "base_uri": "https://localhost:8080/",
     "height": 71
    },
    "colab_type": "code",
    "executionInfo": {
     "elapsed": 1361,
     "status": "ok",
     "timestamp": 1588264261127,
     "user": {
      "displayName": "Sean Crosby",
      "photoUrl": "https://lh3.googleusercontent.com/a-/AOh14GhCX7zy_Jz5cUA8hBL4g9VAw2XFpalmH_qBf91KDCA=s64",
      "userId": "13169004125921679398"
     },
     "user_tz": 420
    },
    "id": "xccXYOtSm9WO",
    "outputId": "3c6498a9-2cbe-4d3f-df3a-cb3b034904e7"
   },
   "outputs": [],
   "source": [
    "# Read in the data for pandas\n",
    "#pd is pandas (library), sep is the seperator (delimiter) \\t is tab,\n",
    "#comment is #, one headerline, use the columns 2 and 3 (first column is 0).\n",
    "dateparse = lambda x: pd.datetime.strptime(x, '%Y-%m-%d') \n",
    "data = pd.read_csv(filename,\n",
    "                   sep= '\\t', \n",
    "                   comment = '#',\n",
    "                   header = 1,\n",
    "                   engine = 'python',\n",
    "                   usecols = [2,3],\n",
    "                   names = ('date','discharge'),\n",
    "                   parse_dates = ['date'], \n",
    "                   date_parser = dateparse\n",
    "                   )\n",
    "\n",
    "t = data['date'].values\n",
    "Q = data['discharge'].values"
   ]
  },
  {
   "cell_type": "code",
   "execution_count": null,
   "metadata": {
    "colab": {
     "base_uri": "https://localhost:8080/",
     "height": 231
    },
    "colab_type": "code",
    "executionInfo": {
     "elapsed": 659,
     "status": "error",
     "timestamp": 1589902764300,
     "user": {
      "displayName": "Sean Crosby",
      "photoUrl": "https://lh3.googleusercontent.com/a-/AOh14GhCX7zy_Jz5cUA8hBL4g9VAw2XFpalmH_qBf91KDCA=s64",
      "userId": "13169004125921679398"
     },
     "user_tz": 420
    },
    "id": "wPz8uYG7m9WS",
    "outputId": "d5478af5-1889-45e8-f9ff-0cec0ffe9f86"
   },
   "outputs": [],
   "source": [
    "# Plot the discharge\n",
    "plt.plot(t,Q)\n",
    "plt.xlabel('time')\n",
    "plt.ylabel('Discharge (cfs)')\n",
    "plt.title('My title')\n",
    "plt.set_xlim([datetime.date(2020, 5, 1), datetime.date(2020, 5, 30)])"
   ]
  },
  {
   "cell_type": "code",
   "execution_count": null,
   "metadata": {
    "colab": {
     "base_uri": "https://localhost:8080/",
     "height": 34
    },
    "colab_type": "code",
    "executionInfo": {
     "elapsed": 534,
     "status": "ok",
     "timestamp": 1588264314942,
     "user": {
      "displayName": "Sean Crosby",
      "photoUrl": "https://lh3.googleusercontent.com/a-/AOh14GhCX7zy_Jz5cUA8hBL4g9VAw2XFpalmH_qBf91KDCA=s64",
      "userId": "13169004125921679398"
     },
     "user_tz": 420
    },
    "id": "VySeLEjLm9WW",
    "outputId": "ea74e159-d710-4fcb-8205-c18c7f37dd05"
   },
   "outputs": [],
   "source": [
    "# Compute some statistics, mean and max\n",
    "Q_mean = np.mean(Q)\n",
    "Q_max = np.max(Q)\n",
    "print('Mean = {:4.2f}, Max = {:4.2f}'.format(Q_mean, Q_max))"
   ]
  },
  {
   "cell_type": "code",
   "execution_count": null,
   "metadata": {
    "colab": {
     "base_uri": "https://localhost:8080/",
     "height": 356
    },
    "colab_type": "code",
    "executionInfo": {
     "elapsed": 1099,
     "status": "ok",
     "timestamp": 1588264475555,
     "user": {
      "displayName": "Sean Crosby",
      "photoUrl": "https://lh3.googleusercontent.com/a-/AOh14GhCX7zy_Jz5cUA8hBL4g9VAw2XFpalmH_qBf91KDCA=s64",
      "userId": "13169004125921679398"
     },
     "user_tz": 420
    },
    "id": "hcHw-dvAm9WZ",
    "outputId": "87de6482-3687-41bd-e684-4309efea0ae4"
   },
   "outputs": [],
   "source": [
    "# Plot the discharge, in cubic meters / s\n",
    "import seaborn as sns\n",
    "sns.set()\n",
    "Q_m = Q*0.0283168\n",
    "plt.plot(t,Q_m)\n",
    "plt.xlabel('time')\n",
    "plt.ylabel('Discharge (m^3/s)')\n",
    "plt.title('SI units')\n",
    "plt.xticks(rotation=30)"
   ]
  },
  {
   "cell_type": "code",
   "execution_count": null,
   "metadata": {
    "colab": {
     "base_uri": "https://localhost:8080/",
     "height": 34
    },
    "colab_type": "code",
    "executionInfo": {
     "elapsed": 590,
     "status": "ok",
     "timestamp": 1588264385043,
     "user": {
      "displayName": "Sean Crosby",
      "photoUrl": "https://lh3.googleusercontent.com/a-/AOh14GhCX7zy_Jz5cUA8hBL4g9VAw2XFpalmH_qBf91KDCA=s64",
      "userId": "13169004125921679398"
     },
     "user_tz": 420
    },
    "id": "3hZHLJQN7jNw",
    "outputId": "46da99ba-1045-4640-cee4-2e7c62c64fa7"
   },
   "outputs": [],
   "source": [
    "# Compute the statistics now in SI units.\n",
    "Q_mean = np.mean(Q_m)\n",
    "Q_max = np.max(Q_m)\n",
    "print('Mean = {:4.2f}, Max = {:4.2f}'.format(Q_mean, Q_max))"
   ]
  }
 ],
 "metadata": {
  "colab": {
   "collapsed_sections": [],
   "name": "02_PlotStreamGaugeData.ipynb",
   "provenance": []
  },
  "kernelspec": {
   "display_name": "Python 3",
   "language": "python",
   "name": "python3"
  },
  "language_info": {
   "codemirror_mode": {
    "name": "ipython",
    "version": 3
   },
   "file_extension": ".py",
   "mimetype": "text/x-python",
   "name": "python",
   "nbconvert_exporter": "python",
   "pygments_lexer": "ipython3",
   "version": "3.7.4"
  }
 },
 "nbformat": 4,
 "nbformat_minor": 1
}
