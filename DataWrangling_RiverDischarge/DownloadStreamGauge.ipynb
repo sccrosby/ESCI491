{
 "cells": [
  {
   "cell_type": "markdown",
   "metadata": {},
   "source": [
    "# Downloading Stream Gauge Data, Average Daily Flows\n",
    "This script will download and save daily averaged discharge values for a given USGS stream gauge for the time period selected. The USGS maintains a large network of stream gauges all over the nation, you can see the gauge sites for Washington State here, https://waterdata.usgs.gov/wa/nwis/rt\n",
    "\n",
    "This script was originally written, Allison Pfeiffer (WWU), and then modified by Sean C. Crosby (USGS)"
   ]
  },
  {
   "cell_type": "code",
   "execution_count": null,
   "metadata": {},
   "outputs": [],
   "source": [
    "# Load the necessary python packages\n",
    "import requests\n",
    "import pandas as pd\n",
    "import numpy as np\n",
    "import os"
   ]
  },
  {
   "cell_type": "markdown",
   "metadata": {},
   "source": [
    "Below you will enter the the stream gauge you are interested in. You can look up the stream gauge ID online. Make sure to give sitenum a string. In the next cell enter the dates you are interested in examining. Below I've selected the 2018/2019 water year."
   ]
  },
  {
   "cell_type": "code",
   "execution_count": null,
   "metadata": {},
   "outputs": [],
   "source": [
    "# Enter your site number as a string, for example Ferndale is \"12213100\"\n",
    "sitenum = \"12213100\""
   ]
  },
  {
   "cell_type": "code",
   "execution_count": null,
   "metadata": {},
   "outputs": [],
   "source": [
    "# Now enter the start and stop times in the format below\n",
    "startdate = \"2018-10-01\"\n",
    "enddate = \"2019-10-01\""
   ]
  },
  {
   "cell_type": "markdown",
   "metadata": {},
   "source": [
    "The next section of code downloads the data"
   ]
  },
  {
   "cell_type": "code",
   "execution_count": null,
   "metadata": {},
   "outputs": [],
   "source": [
    "# This creates the URL we are going to request\n",
    "url = ('https://waterdata.usgs.gov/nwis/dv?cb_00060=on&cb_00065=on&format=rdb&site_no='\n",
    "       + sitenum\n",
    "       + '&referred_module=sw&period=&begin_date='\n",
    "       + startdate\n",
    "       + '&end_date='\n",
    "       + enddate\n",
    "       )\n",
    "# Here we ask the URL for data\n",
    "response = requests.get(url)\n",
    "data = response.text"
   ]
  },
  {
   "cell_type": "code",
   "execution_count": null,
   "metadata": {},
   "outputs": [],
   "source": [
    "# Let's take a quick look at the data we downloaded\n",
    "print(data)"
   ]
  },
  {
   "cell_type": "code",
   "execution_count": null,
   "metadata": {},
   "outputs": [],
   "source": [
    "# Second, we're going to save as a textfile\n",
    "filename = sitenum + '_Daily.txt'"
   ]
  },
  {
   "cell_type": "code",
   "execution_count": null,
   "metadata": {},
   "outputs": [],
   "source": [
    "# We want to save the text files into the same directory as this .py script, so\n",
    "path=os.path.join( os.getcwd(), filename) #gets current directory to put file in\n",
    "file = open(path,'w') #open file\n",
    "file.write(data) #everything we found at that url\n",
    "file.close() #close the file"
   ]
  },
  {
   "cell_type": "code",
   "execution_count": null,
   "metadata": {},
   "outputs": [],
   "source": []
  }
 ],
 "metadata": {
  "kernelspec": {
   "display_name": "Python 3",
   "language": "python",
   "name": "python3"
  },
  "language_info": {
   "codemirror_mode": {
    "name": "ipython",
    "version": 3
   },
   "file_extension": ".py",
   "mimetype": "text/x-python",
   "name": "python",
   "nbconvert_exporter": "python",
   "pygments_lexer": "ipython3",
   "version": "3.7.4"
  }
 },
 "nbformat": 4,
 "nbformat_minor": 2
}
