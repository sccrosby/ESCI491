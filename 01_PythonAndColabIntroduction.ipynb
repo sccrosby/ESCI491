{
 "cells": [
  {
   "cell_type": "markdown",
   "metadata": {
    "colab_type": "text",
    "id": "ArO3P44xtiwS"
   },
   "source": [
    "## An Introduction to Python and Google Colabs\n",
    "Here, we will start with the basics of using python jupyter notebooks with some addtional tips for working inside Google Colabs. You can utilize python for data analysis whether you install python locally on your computer or run virtual python environments in Google Colabs. Both approaches have their own advantages, however often it is easiest to get started with Colabs. Goolge Colabs creates a virtual machine on its server that runs all the code you write. This means you won't have any issues with special python packages or version. Scripts run in Google Colabs can be run on any computer with a web browser. While Colabs makes initial setup much simpler, file management and running scripts is much faster and easier on your local machine."
   ]
  },
  {
   "cell_type": "markdown",
   "metadata": {},
   "source": [
    "### Installing python on your local machine\n",
    "\n",
    "The easiest way to use python locally, whether you are running Windows, OSX, or Linux, is to use Anaconda. You can follow the instructions here, https://docs.anaconda.com/anaconda/install/. I reccomend performing a complete install with all the reccomended packages. While this will take more space on your computer, it will simplify your experience by not needing to install packages manually. \n",
    "\n",
    "That said, you may need to install an additional package to work with the notebooks here. That package is xarray. Xarray is an excellent package for handling netcdf timeseries data and is commonly used by oceanographers in their data analysis. \n",
    "\n",
    "If you have Anaconda installed you can install xarray by running the following command from your terminal or command window:\n",
    "\n",
    "**conda install xarray dask netCDF4 bottleneck**\n",
    "\n",
    "This command will install xarray and several other packages xarray needs to work. \n",
    "\n",
    "In general many python packages can be installed with conda using the simple command\n",
    "\n",
    "**conda install package_to_install**"
   ]
  },
  {
   "cell_type": "markdown",
   "metadata": {},
   "source": [
    "### Opening jupyter notebook locally\n",
    "\n",
    "To start an instance of jupyter notebooks locally on your machine (once anaconda is installed) you simple open a command (or terminal) window and enter the following command\n",
    "\n",
    "**jupyter notebook**\n",
    "\n",
    "This will bring up a new window in your browser where you can launch notebooks. I reccomend that you first navigate to the folder you are working in, for example, if you cloned the repository, PythonOceanLessons. Use the cd command to navigate in the terminal. "
   ]
  },
  {
   "cell_type": "markdown",
   "metadata": {},
   "source": [
    "### Opening jupyter in colab\n",
    "You can get started with colab with the following tutorial, https://colab.research.google.com/notebooks/intro.ipynb. Additionally, Google colabs can be started and saved in your Google Drive. "
   ]
  },
  {
   "cell_type": "markdown",
   "metadata": {
    "colab_type": "text",
    "id": "k134l_zbt6hw"
   },
   "source": [
    "### Navigating Jupyter Notebooks - Helpful Shortcuts\n",
    "\n",
    "You will want to master some helpful shortcuts, they can save you an immense amount of time. Colab shortcuts are very similar to jupyter notebook shorcuts, with the addition of a Ctrl/Cmd M key-press in addition to the typical shortcut key (Note, use Ctrl for Windows/Linux and Cmd for OSX). For example, to create a new cell below your current cell on a OSX you press Ctrl-M then A. To view a list of short cuts, use: Ctrl/Cmd M H. \n",
    "\n",
    "The most frequently used shortcuts that you should commit to memory are: <br>\n",
    "\n",
    "Run your cell, **Shift Enter** <br>\n",
    "Insert code cell above, **Ctrl/Cmd M A** <br>\n",
    "Insert code cell below, **Ctrl/Cmd M B** <br>\n",
    "Delete cell/selection, **Ctrl/Cmd M D** <br>\n",
    "Convert to code cell, **Ctrl/Cmd M Y** <br>\n",
    "Convert to text cell, **Ctrl/Cmd M M** <br>\n",
    "\n",
    "Go head and give it a try, press **Ctrl/Cmd M B** to create a new cell, then try to delete it. If you are running jupyter notebooks locally, just use **Ctrl/Cmd B**, the addition of the **M** is only needed in Colabs"
   ]
  },
  {
   "cell_type": "markdown",
   "metadata": {},
   "source": [
    "### Two types of cells\n",
    "In Jupyter Notebooks there are two types of cells, code cells and markdown or text cells. The last two shortcuts above can quickly convert a cell to one or the other. These first few cells are markdown cells that allow for rapid formatting of text, including altering text size, font, face, and add hyperlinks and images. Here is a tutorial for your reference, as we won't cover these details here. https://www.datacamp.com/community/tutorials/markdown-in-jupyter-notebook"
   ]
  },
  {
   "cell_type": "markdown",
   "metadata": {
    "colab_type": "text",
    "id": "rI2KdHjoA4Td"
   },
   "source": [
    "### Comments\n",
    "The first thing in coding to learn is how to add comments. Code gets complicated fast, and comments help you take notes to understand what each line of code does. In python, if you start a line with **#** it is designated as a comment. The font color will be gray and the python compiler will ignore all text after the **#**. This allows you to make comments in your code explaning what each part does. It is also very useful in troubleshooting errors to temporarily comment out a section of code that is not working. Let's look at exampel below"
   ]
  },
  {
   "cell_type": "code",
   "execution_count": null,
   "metadata": {
    "colab": {},
    "colab_type": "code",
    "id": "xLISlRXB1pt2"
   },
   "outputs": [],
   "source": [
    "# This line is commmented and ignored by the compiler! It won't do anything"
   ]
  },
  {
   "cell_type": "markdown",
   "metadata": {
    "colab_type": "text",
    "id": "LpVLBHKG1wXt"
   },
   "source": [
    "### Printing output\n",
    "In python you can print ouput from a variable with the print() function. For example, below we will print hello world. To do this we provide the print() function the string hello world. To tell Python this is a string we enclose it with apostrophes, like 'hello world'. Python treats apostrophes and quotes the same, so you can write 'hello world' or \"hello world\", just be consistent. See the example below"
   ]
  },
  {
   "cell_type": "code",
   "execution_count": null,
   "metadata": {
    "colab": {
     "base_uri": "https://localhost:8080/",
     "height": 34
    },
    "colab_type": "code",
    "executionInfo": {
     "elapsed": 326,
     "status": "ok",
     "timestamp": 1591383492701,
     "user": {
      "displayName": "Sean Crosby",
      "photoUrl": "https://lh3.googleusercontent.com/a-/AOh14GhCX7zy_Jz5cUA8hBL4g9VAw2XFpalmH_qBf91KDCA=s64",
      "userId": "13169004125921679398"
     },
     "user_tz": 420
    },
    "id": "ETJDgNhxA0sQ",
    "outputId": "3b889fd2-e45b-4976-d809-29983f62883e"
   },
   "outputs": [],
   "source": [
    "# The below code will print \"hello world\"\n",
    "print('hellow world')"
   ]
  },
  {
   "cell_type": "markdown",
   "metadata": {
    "colab_type": "text",
    "id": "OvKOrABOBawe"
   },
   "source": [
    "### Variables\n",
    "In python you define a variable to hold some piece of information, for example a string, a number or a list/matrix of strings or numbers. Below we will create a variable, x, that contains the string 'hello world'. Then we will print x"
   ]
  },
  {
   "cell_type": "code",
   "execution_count": null,
   "metadata": {
    "colab": {},
    "colab_type": "code",
    "id": "OvaEtoLeo1xn"
   },
   "outputs": [],
   "source": [
    "# Creating a string variable\n",
    "x = 'hello world'\n",
    "print(x)"
   ]
  },
  {
   "cell_type": "markdown",
   "metadata": {
    "colab_type": "text",
    "id": "1OFr43hJwS-T"
   },
   "source": [
    "### Adding and Concatenating\n",
    "We can perform many operations on our variables, for example adding. Python will automatically interpret was it meant by adding based on the variable type. For example strings are concatenated, numbers are added. Let's verify this by creating variables of both and adding them."
   ]
  },
  {
   "cell_type": "code",
   "execution_count": null,
   "metadata": {
    "colab": {
     "base_uri": "https://localhost:8080/",
     "height": 34
    },
    "colab_type": "code",
    "executionInfo": {
     "elapsed": 963,
     "status": "ok",
     "timestamp": 1591383971241,
     "user": {
      "displayName": "Sean Crosby",
      "photoUrl": "https://lh3.googleusercontent.com/a-/AOh14GhCX7zy_Jz5cUA8hBL4g9VAw2XFpalmH_qBf91KDCA=s64",
      "userId": "13169004125921679398"
     },
     "user_tz": 420
    },
    "id": "zWYgp9c1uZ0u",
    "outputId": "06a4a37e-9ed5-4af7-eeac-3352fabe3d88"
   },
   "outputs": [],
   "source": [
    "# Here let's try adding numbers\n",
    "a = 1\n",
    "b = 2\n",
    "c = a + b\n",
    "print(c)"
   ]
  },
  {
   "cell_type": "code",
   "execution_count": null,
   "metadata": {
    "colab": {
     "base_uri": "https://localhost:8080/",
     "height": 34
    },
    "colab_type": "code",
    "executionInfo": {
     "elapsed": 315,
     "status": "ok",
     "timestamp": 1591384038204,
     "user": {
      "displayName": "Sean Crosby",
      "photoUrl": "https://lh3.googleusercontent.com/a-/AOh14GhCX7zy_Jz5cUA8hBL4g9VAw2XFpalmH_qBf91KDCA=s64",
      "userId": "13169004125921679398"
     },
     "user_tz": 420
    },
    "id": "5laV-IQBB-kN",
    "outputId": "9e84a613-e36d-4d7b-8381-293dde21e6ba"
   },
   "outputs": [],
   "source": [
    "# Now let's try adding strings\n",
    "a = 'run '\n",
    "b = 'fast'\n",
    "c = a + b\n",
    "print(c)"
   ]
  },
  {
   "cell_type": "markdown",
   "metadata": {
    "colab_type": "text",
    "id": "CZMmpCwHCSB8"
   },
   "source": [
    "### Lists\n",
    "A lot of the power of scripting (programming) is that we can have lists of data. We can create lists of numbers or strings. In Python we do this with brackets, [  ] and commas. For example, a = [1,2,3,4]\n",
    "\n",
    "Adding additionally works with list, concatenating them as you see below"
   ]
  },
  {
   "cell_type": "code",
   "execution_count": null,
   "metadata": {
    "colab": {
     "base_uri": "https://localhost:8080/",
     "height": 34
    },
    "colab_type": "code",
    "executionInfo": {
     "elapsed": 293,
     "status": "ok",
     "timestamp": 1591385091742,
     "user": {
      "displayName": "Sean Crosby",
      "photoUrl": "https://lh3.googleusercontent.com/a-/AOh14GhCX7zy_Jz5cUA8hBL4g9VAw2XFpalmH_qBf91KDCA=s64",
      "userId": "13169004125921679398"
     },
     "user_tz": 420
    },
    "id": "EQ0IHTpcu_W2",
    "outputId": "b5c21043-0352-429f-bfa0-0167b47c5f5d"
   },
   "outputs": [],
   "source": [
    "# Making and adding lists\n",
    "a = [1,2,3,4]\n",
    "b = [5,6,7]\n",
    "a+b"
   ]
  },
  {
   "cell_type": "markdown",
   "metadata": {
    "colab_type": "text",
    "id": "K5kAA2B673sB"
   },
   "source": [
    "Other operations work as well, for example multipication"
   ]
  },
  {
   "cell_type": "code",
   "execution_count": null,
   "metadata": {
    "colab": {
     "base_uri": "https://localhost:8080/",
     "height": 34
    },
    "colab_type": "code",
    "executionInfo": {
     "elapsed": 415,
     "status": "ok",
     "timestamp": 1591385030598,
     "user": {
      "displayName": "Sean Crosby",
      "photoUrl": "https://lh3.googleusercontent.com/a-/AOh14GhCX7zy_Jz5cUA8hBL4g9VAw2XFpalmH_qBf91KDCA=s64",
      "userId": "13169004125921679398"
     },
     "user_tz": 420
    },
    "id": "ROZq3_7kyh1m",
    "outputId": "b81af88f-b81e-4387-a5da-1885635b3bad"
   },
   "outputs": [],
   "source": [
    "# Notice the behaivor of operations on lists\n",
    "2*a"
   ]
  },
  {
   "cell_type": "markdown",
   "metadata": {
    "colab_type": "text",
    "id": "8QC-eZ2yJZF0"
   },
   "source": [
    "### Loops\n",
    "Loops are very powerful, allowing us to perform the same operation many times We can iterate over a set of values, performing the same operation on each one. First, let's just print a list of numbers. \n",
    "\n",
    "The loop syntax looks like the example below. Notice the colon, :, and that the items inside the loop are \"tabbed\" inside. Python interprets your tabbed lines as being \"inside\" the loop. "
   ]
  },
  {
   "cell_type": "code",
   "execution_count": null,
   "metadata": {
    "colab": {
     "base_uri": "https://localhost:8080/",
     "height": 102
    },
    "colab_type": "code",
    "executionInfo": {
     "elapsed": 318,
     "status": "ok",
     "timestamp": 1591385233389,
     "user": {
      "displayName": "Sean Crosby",
      "photoUrl": "https://lh3.googleusercontent.com/a-/AOh14GhCX7zy_Jz5cUA8hBL4g9VAw2XFpalmH_qBf91KDCA=s64",
      "userId": "13169004125921679398"
     },
     "user_tz": 420
    },
    "id": "80_GFFUlJjvw",
    "outputId": "33910e6d-4a5a-45c2-8668-69fc072eca01"
   },
   "outputs": [],
   "source": [
    "for x in [1,2,3,4,5]:\n",
    "  print(x)"
   ]
  },
  {
   "cell_type": "markdown",
   "metadata": {
    "colab_type": "text",
    "id": "YI1USkXu89IL"
   },
   "source": [
    "The list you iterate over can be defined beforehand, and we can do more inside the loop, for example"
   ]
  },
  {
   "cell_type": "code",
   "execution_count": null,
   "metadata": {
    "colab": {
     "base_uri": "https://localhost:8080/",
     "height": 119
    },
    "colab_type": "code",
    "executionInfo": {
     "elapsed": 516,
     "status": "ok",
     "timestamp": 1591385428928,
     "user": {
      "displayName": "Sean Crosby",
      "photoUrl": "https://lh3.googleusercontent.com/a-/AOh14GhCX7zy_Jz5cUA8hBL4g9VAw2XFpalmH_qBf91KDCA=s64",
      "userId": "13169004125921679398"
     },
     "user_tz": 420
    },
    "id": "-4545R049MK_",
    "outputId": "9d11cc50-0168-4a1d-81a6-7e8cbbe48f36"
   },
   "outputs": [],
   "source": [
    "my_list = [1,2,3,4,5,6]\n",
    "for x in my_list:\n",
    "    squared = x*x\n",
    "    print(squared)"
   ]
  },
  {
   "cell_type": "markdown",
   "metadata": {
    "colab_type": "text",
    "id": "mKXUXC1F-o5S"
   },
   "source": [
    "Or how about another loop that adds up a list. Notice how my last statement, not inside the loop is just called once"
   ]
  },
  {
   "cell_type": "code",
   "execution_count": null,
   "metadata": {
    "colab": {
     "base_uri": "https://localhost:8080/",
     "height": 34
    },
    "colab_type": "code",
    "executionInfo": {
     "elapsed": 352,
     "status": "ok",
     "timestamp": 1591385739135,
     "user": {
      "displayName": "Sean Crosby",
      "photoUrl": "https://lh3.googleusercontent.com/a-/AOh14GhCX7zy_Jz5cUA8hBL4g9VAw2XFpalmH_qBf91KDCA=s64",
      "userId": "13169004125921679398"
     },
     "user_tz": 420
    },
    "id": "IU8SfZ45-tTv",
    "outputId": "42c79fd5-8337-412b-d2b7-c51c3a32f1c9"
   },
   "outputs": [],
   "source": [
    "mysum = 0\n",
    "my_list = [1,2,3,4,5,6]\n",
    "for x in my_list:\n",
    "    mysum = mysum + x\n",
    "\n",
    "print(mysum)"
   ]
  },
  {
   "cell_type": "markdown",
   "metadata": {},
   "source": [
    "### List comprehension\n",
    "List comprehension is a more advanced technique that you don't need to learn here, but I want to expose you to it briefly as you will see it in many places. In a nut-shell, list comprehension is just a loop, written in a single line. The syntax of that line can seem a little confusing at first, but with a little practice you will get the hang of it.\n",
    "\n",
    "Let's look at the example below, we have a list of numbers and we want to square each one of them. We could use a loop to create a new list of squared values. That loop might look like this"
   ]
  },
  {
   "cell_type": "code",
   "execution_count": 5,
   "metadata": {},
   "outputs": [
    {
     "name": "stdout",
     "output_type": "stream",
     "text": [
      "[1, 4, 9, 16, 25, 36]\n"
     ]
    }
   ],
   "source": [
    "# An example of a loop to square our set of numbers\n",
    "x = [1,2,3,4,5,6]\n",
    "\n",
    "for ii in range(len(x)):\n",
    "    xsquared[ii] = x[ii]*x[ii]\n",
    "\n",
    "print(xsquared)"
   ]
  },
  {
   "cell_type": "markdown",
   "metadata": {},
   "source": [
    "However, we can do the operation faster with list comprehension. See the example below:"
   ]
  },
  {
   "cell_type": "code",
   "execution_count": 6,
   "metadata": {},
   "outputs": [
    {
     "name": "stdout",
     "output_type": "stream",
     "text": [
      "[1, 4, 9, 16, 25, 36]\n"
     ]
    }
   ],
   "source": [
    "# An example of list comprehension\n",
    "x = [1,2,3,4,5,6]\n",
    "\n",
    "xsquared = [item*item for item in x]\n",
    "\n",
    "print(xsquared)"
   ]
  },
  {
   "cell_type": "markdown",
   "metadata": {},
   "source": [
    "Notice that here we defined the variable item, that loops through each item in the list x, and the operation, item*item is what our new list is made of.\n",
    "\n",
    "*Note that list comprehension is not just faster because there are fewer lines to write, but it is also faster computationally!*"
   ]
  },
  {
   "cell_type": "markdown",
   "metadata": {
    "colab_type": "text",
    "id": "9AygPOIgCnrO"
   },
   "source": [
    "### Packages\n",
    "Many tools are available for python, but they need to be imported in what we call packages. Let's import some commonly used packages below. These packages will help us load, manage, and work with data."
   ]
  },
  {
   "cell_type": "code",
   "execution_count": null,
   "metadata": {
    "colab": {},
    "colab_type": "code",
    "id": "e_2iPzJUvQ12"
   },
   "outputs": [],
   "source": [
    "# Packages. Note we import each package as XX, this is the name we refer to them with later\n",
    "import numpy as np\n",
    "import matplotlib.pyplot as plt"
   ]
  },
  {
   "cell_type": "markdown",
   "metadata": {
    "colab_type": "text",
    "id": "zZ3-DGZsC7lN"
   },
   "source": [
    "### Playing with data\n",
    "In learning, it is often best to start with some data to see how you can manipulate and plot it. Here we can use our numpy and matplotlib packages to generate some fake data to experiment with matplotlib's plotting tools"
   ]
  },
  {
   "cell_type": "code",
   "execution_count": null,
   "metadata": {
    "colab": {},
    "colab_type": "code",
    "id": "VR0Nw8DJvn5G"
   },
   "outputs": [],
   "source": [
    "# Let's start with numpy, which provides many tools for mathematical operations similar to matlab\n",
    "# Here we create numpy arrays instead of just lists, which allows us to do many mathematical operations\n",
    "t = np.arange(0,2*np.pi,.1)\n",
    "y = np.sin(t)\n",
    "y2 = np.sin(2*t)\n",
    "y3 = y+y2"
   ]
  },
  {
   "cell_type": "code",
   "execution_count": null,
   "metadata": {
    "colab": {},
    "colab_type": "code",
    "id": "wKdqy83Av3EW"
   },
   "outputs": [],
   "source": [
    "# Matplotlib is a great tool for plotting\n",
    "plt.plot(t,y)\n",
    "plt.grid()\n",
    "plt.ylabel('y-label')\n",
    "plt.xlabel('x-label')"
   ]
  },
  {
   "cell_type": "code",
   "execution_count": null,
   "metadata": {
    "colab": {},
    "colab_type": "code",
    "id": "Qk4igrOlwNu1"
   },
   "outputs": [],
   "source": [
    "# We can plot serveral things at once\n",
    "plt.plot(t,y,label='wave 1')\n",
    "plt.plot(t,y2,label='wave 2')\n",
    "plt.plot(t,y3,label='wave 1+2')\n",
    "plt.grid()\n",
    "plt.ylabel('amplitude')\n",
    "plt.xlabel('time')\n",
    "plt.legend()\n",
    "plt.title('Example')"
   ]
  },
  {
   "cell_type": "code",
   "execution_count": null,
   "metadata": {
    "colab": {},
    "colab_type": "code",
    "id": "xmJfsrlBwkYW"
   },
   "outputs": [],
   "source": [
    "# We can also import packaages to beautify our plotting\n",
    "import seaborn as sns\n",
    "sns.set() # This command sets all our plotting to use SeaBorn formatting, seaborn details: https://seaborn.pydata.org/introduction.html"
   ]
  },
  {
   "cell_type": "code",
   "execution_count": null,
   "metadata": {
    "colab": {},
    "colab_type": "code",
    "id": "hn-TX4wExaZJ"
   },
   "outputs": [],
   "source": [
    "# Plotting again now, we have a more beautiful plot\n",
    "plt.plot(t,y,label='wave 1')\n",
    "plt.plot(t,y2,label='wave 2')\n",
    "plt.plot(t,y3,label='wave 1+2')\n",
    "plt.ylabel('amplitude')\n",
    "plt.xlabel('time')\n",
    "plt.legend()\n",
    "plt.title('Example')"
   ]
  },
  {
   "cell_type": "markdown",
   "metadata": {
    "colab_type": "text",
    "id": "bZJ_V4n_Yhqh"
   },
   "source": [
    "## Navigating Google Drives - Saving and loading files\n",
    "One minor annoyance of Colabs is that you must manually connect to your google drive. Following the procedure below you can connect to your Google Drive and then navigate to your folders, saving figures, datasets or loading data from existing datasets you download into your Google Drive"
   ]
  },
  {
   "cell_type": "code",
   "execution_count": null,
   "metadata": {
    "colab": {},
    "colab_type": "code",
    "id": "EbBt3dmvYk7u"
   },
   "outputs": [],
   "source": [
    "# Connect to your drive, follow the instructions\n",
    "from google.colab import drive\n",
    "drive.mount('/content/drive')"
   ]
  },
  {
   "cell_type": "code",
   "execution_count": null,
   "metadata": {
    "colab": {},
    "colab_type": "code",
    "id": "d5UYhQs4FfKA"
   },
   "outputs": [],
   "source": [
    "# To navigate we must import the os package\n",
    "import os"
   ]
  },
  {
   "cell_type": "code",
   "execution_count": null,
   "metadata": {
    "colab": {},
    "colab_type": "code",
    "id": "qRSCvbQYFNXc"
   },
   "outputs": [],
   "source": [
    "# Listing contents of the current directory\n",
    "os.listdir()"
   ]
  },
  {
   "cell_type": "code",
   "execution_count": null,
   "metadata": {
    "colab": {},
    "colab_type": "code",
    "id": "IAexoTc4Flbs"
   },
   "outputs": [],
   "source": [
    "# Show what directory you are in\n",
    "os.getcwd()"
   ]
  },
  {
   "cell_type": "code",
   "execution_count": null,
   "metadata": {
    "colab": {},
    "colab_type": "code",
    "id": "ZTHTIkrjFKhf"
   },
   "outputs": [],
   "source": [
    "# Changing directories\n",
    "os.chdir('drive')"
   ]
  },
  {
   "cell_type": "code",
   "execution_count": null,
   "metadata": {
    "colab": {},
    "colab_type": "code",
    "id": "H30iQdV6ypfB"
   },
   "outputs": [],
   "source": [
    "# Changing into my Google drive looks like this\n",
    "os.chdir('/content/drive/My Drive/')\n",
    "os.getcwd()"
   ]
  }
 ],
 "metadata": {
  "colab": {
   "authorship_tag": "ABX9TyN2rR5GI3dqXiENCpjA1Yb5",
   "collapsed_sections": [],
   "name": "01_CrosbyColabIntro",
   "provenance": []
  },
  "kernelspec": {
   "display_name": "Python 3",
   "language": "python",
   "name": "python3"
  },
  "language_info": {
   "codemirror_mode": {
    "name": "ipython",
    "version": 3
   },
   "file_extension": ".py",
   "mimetype": "text/x-python",
   "name": "python",
   "nbconvert_exporter": "python",
   "pygments_lexer": "ipython3",
   "version": "3.8.5"
  }
 },
 "nbformat": 4,
 "nbformat_minor": 1
}
