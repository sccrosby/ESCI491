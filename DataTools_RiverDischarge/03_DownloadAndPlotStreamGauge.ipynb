{
 "cells": [
  {
   "cell_type": "markdown",
   "metadata": {
    "colab_type": "text",
    "id": "VRtFjI0rhols"
   },
   "source": [
    "# Downloading Stream Gauge Data, Average Daily Flows\n",
    "This script will download and save daily averaged discharge values for a given USGS stream gauge for the time period selected. The USGS maintains a large network of stream gauges all over the nation, you can see the gauge sites for Washington State here, https://waterdata.usgs.gov/wa/nwis/rt\n",
    "\n",
    "This script was originally written, Allison Pfeiffer (WWU), and then modified by Sean C. Crosby (USGS)"
   ]
  },
  {
   "cell_type": "code",
   "execution_count": 1,
   "metadata": {
    "colab": {
     "base_uri": "https://localhost:8080/",
     "height": 51
    },
    "colab_type": "code",
    "executionInfo": {
     "elapsed": 666,
     "status": "ok",
     "timestamp": 1594332952884,
     "user": {
      "displayName": "Sean Crosby",
      "photoUrl": "https://lh3.googleusercontent.com/a-/AOh14GhCX7zy_Jz5cUA8hBL4g9VAw2XFpalmH_qBf91KDCA=s64",
      "userId": "13169004125921679398"
     },
     "user_tz": 420
    },
    "id": "LhajWoIvholw",
    "outputId": "95434898-c115-4439-8859-208b0eeb1fed"
   },
   "outputs": [],
   "source": [
    "# Load the necessary python packages\n",
    "import requests\n",
    "import pandas as pd\n",
    "import numpy as np\n",
    "import os\n",
    "import matplotlib.pyplot as plt\n",
    "import seaborn as sns\n",
    "sns.set()"
   ]
  },
  {
   "cell_type": "markdown",
   "metadata": {
    "colab_type": "text",
    "id": "brqOcvf0hol1"
   },
   "source": [
    "Below you will enter the the stream gauge you are interested in. You can look up the stream gauge ID online. Make sure to give sitenum a string. In the next cell enter the dates you are interested in examining. Below I've selected the 2018/2019 water year."
   ]
  },
  {
   "cell_type": "code",
   "execution_count": 2,
   "metadata": {
    "colab": {},
    "colab_type": "code",
    "executionInfo": {
     "elapsed": 485,
     "status": "ok",
     "timestamp": 1594332977801,
     "user": {
      "displayName": "Sean Crosby",
      "photoUrl": "https://lh3.googleusercontent.com/a-/AOh14GhCX7zy_Jz5cUA8hBL4g9VAw2XFpalmH_qBf91KDCA=s64",
      "userId": "13169004125921679398"
     },
     "user_tz": 420
    },
    "id": "VkomvDeNhol2"
   },
   "outputs": [],
   "source": [
    "# Enter your site number as a string, for example Ferndale is \"12213100\"\n",
    "sitenum = \"12200500\""
   ]
  },
  {
   "cell_type": "code",
   "execution_count": 3,
   "metadata": {
    "colab": {},
    "colab_type": "code",
    "executionInfo": {
     "elapsed": 262,
     "status": "ok",
     "timestamp": 1594333004750,
     "user": {
      "displayName": "Sean Crosby",
      "photoUrl": "https://lh3.googleusercontent.com/a-/AOh14GhCX7zy_Jz5cUA8hBL4g9VAw2XFpalmH_qBf91KDCA=s64",
      "userId": "13169004125921679398"
     },
     "user_tz": 420
    },
    "id": "dXCMPDX7hol5"
   },
   "outputs": [],
   "source": [
    "# Now enter the start and stop times in the format below\n",
    "startdate = \"1987-01-01\"\n",
    "enddate = \"2020-06-01\""
   ]
  },
  {
   "cell_type": "markdown",
   "metadata": {
    "colab_type": "text",
    "id": "NP164LRNhol9"
   },
   "source": [
    "The next section of code downloads the data"
   ]
  },
  {
   "cell_type": "code",
   "execution_count": 4,
   "metadata": {
    "colab": {},
    "colab_type": "code",
    "executionInfo": {
     "elapsed": 502,
     "status": "ok",
     "timestamp": 1594333006270,
     "user": {
      "displayName": "Sean Crosby",
      "photoUrl": "https://lh3.googleusercontent.com/a-/AOh14GhCX7zy_Jz5cUA8hBL4g9VAw2XFpalmH_qBf91KDCA=s64",
      "userId": "13169004125921679398"
     },
     "user_tz": 420
    },
    "id": "fAYo52prhol-"
   },
   "outputs": [],
   "source": [
    "# This creates the URL we are going to request\n",
    "url = ('https://waterdata.usgs.gov/nwis/dv?cb_00060=on&cb_00065=on&format=rdb&site_no='\n",
    "       + sitenum\n",
    "       + '&referred_module=sw&period=&begin_date='\n",
    "       + startdate\n",
    "       + '&end_date='\n",
    "       + enddate\n",
    "       )\n",
    "# Here we ask the URL for data\n",
    "response = requests.get(url)\n",
    "data = response.text\n",
    "\n",
    "# Lets save as a temp file\n",
    "filename = 'temp.txt'\n",
    "file = open(filename,'w') #open file\n",
    "file.write(data) #everything we found at that url\n",
    "file.close() #close the file"
   ]
  },
  {
   "cell_type": "code",
   "execution_count": 5,
   "metadata": {
    "colab": {
     "base_uri": "https://localhost:8080/",
     "height": 748
    },
    "colab_type": "code",
    "executionInfo": {
     "elapsed": 270,
     "status": "ok",
     "timestamp": 1594333010660,
     "user": {
      "displayName": "Sean Crosby",
      "photoUrl": "https://lh3.googleusercontent.com/a-/AOh14GhCX7zy_Jz5cUA8hBL4g9VAw2XFpalmH_qBf91KDCA=s64",
      "userId": "13169004125921679398"
     },
     "user_tz": 420
    },
    "id": "7kfup4IuhomB",
    "outputId": "02f094e5-728b-4e17-9799-5d42827a5d1c"
   },
   "outputs": [
    {
     "name": "stdout",
     "output_type": "stream",
     "text": [
      "# ---------------------------------- WARNING ----------------------------------------\n",
      "# Some of the data that you have obtained from this U.S. Geological Survey database\n",
      "# may not have received Director's approval. Any such data values are qualified\n",
      "# as provisional and are subject to revision. Provisional data are released on the\n",
      "# condition that neither the USGS nor the United States Government may be held liable\n",
      "# for any damages resulting from its use.\n",
      "#\n",
      "# Additional info: https://help.waterdata.usgs.gov/policies/provisional-data-statement\n",
      "#\n",
      "# File-format description:  https://help.waterdata.usgs.gov/faq/about-tab-delimited-output\n",
      "# Automated-retrieval info: https://help.waterdata.usgs.gov/faq/automated-retrievals\n",
      "#\n",
      "# Contact:   gs-w_support_nwisweb@usgs.gov\n",
      "# retrieved: 2020-12-20 17:01:00 EST       (caww02)\n",
      "#\n",
      "# Data for the following 1 site(s) are contained in this file\n",
      "#    USGS 12200500 SKAGIT RIVER NEAR MOUNT VERNON, WA\n",
      "# -----------------------------------------------------------------------------------\n",
      "#\n",
      "# Data provided for site 12200500\n",
      "#            TS   parameter     statistic     Description\n",
      "#        149429       00060     00003     Discharge, cubic feet per second (Mean)\n",
      "#        149430       00065     00003     Gage height, feet (Mean)\n",
      "#\n",
      "# Data-value qualification codes included in this output:\n",
      "#        \n",
      "#     A  Approved for publication -- Processing and review completed.\n",
      "#     P  Provisional data subject to revision.\n",
      "#     e  Value has been estimated.\n",
      "# \n",
      "agency_cd\tsite_no\tdatetime\t149429_00060_00003\t149429_00060_00003_cd\t149430_00065_00003\t149430_00065_00003_cd\n",
      "5s\t15s\t20d\t14n\t10s\t14n\t10s\n",
      "USGS\t12200500\t1987-01-01\t18600\tA\t\t\n",
      "USGS\t12200500\t1987-01-02\t18500\tA\t\t\n",
      "USGS\t12200500\t1987-01-03\t20700\tA\t\t\n",
      "USGS\t12200500\t1987-01-04\t22000\tA\t\t\n",
      "USGS\t12200500\t1987-01-05\t19000\tA\t\t\n",
      "USGS\t12200500\t1987-01-06\t19300\tA\t\t\n",
      "USGS\t12200500\t1987-01-07\t18700\tA\t\t\n",
      "USGS\t12200500\t1987-01-08\t18200\tA\t\t\n",
      "USGS\t12200500\t1987-01-09\t17100\tA\t\t\n",
      "USGS\t12200500\t1987-01-10\t16000\tA\t\t\n",
      "USGS\t12200500\t198\n"
     ]
    }
   ],
   "source": [
    "# Let's take a quick look at the data we downloaded\n",
    "print(data[0:2000])"
   ]
  },
  {
   "cell_type": "code",
   "execution_count": 6,
   "metadata": {
    "colab": {
     "base_uri": "https://localhost:8080/",
     "height": 51
    },
    "colab_type": "code",
    "executionInfo": {
     "elapsed": 623,
     "status": "ok",
     "timestamp": 1594333017812,
     "user": {
      "displayName": "Sean Crosby",
      "photoUrl": "https://lh3.googleusercontent.com/a-/AOh14GhCX7zy_Jz5cUA8hBL4g9VAw2XFpalmH_qBf91KDCA=s64",
      "userId": "13169004125921679398"
     },
     "user_tz": 420
    },
    "id": "VbnX76ZokbLb",
    "outputId": "e7ed4477-9123-409e-8efd-44e39e84f3bd"
   },
   "outputs": [],
   "source": [
    "# Read in the data for pandas\n",
    "#pd is pandas (library), sep is the seperator (delimiter) \\t is tab,\n",
    "#comment is #, one headerline, use the columns 2 and 3 (first column is 0).\n",
    "dateparse = lambda x: pd.datetime.strptime(x, '%Y-%m-%d') \n",
    "data = pd.read_csv(filename,\n",
    "                   sep= '\\t', \n",
    "                   comment = '#',\n",
    "                   header = 1,\n",
    "                   engine = 'python',\n",
    "                   usecols = [2,3],\n",
    "                   names = ('date','discharge'),\n",
    "                   parse_dates = ['date'], \n",
    "                   date_parser = dateparse\n",
    "                   )\n",
    "\n",
    "t = data['date'].values\n",
    "Q = data['discharge'].values"
   ]
  },
  {
   "cell_type": "code",
   "execution_count": 7,
   "metadata": {
    "colab": {
     "base_uri": "https://localhost:8080/",
     "height": 470
    },
    "colab_type": "code",
    "executionInfo": {
     "elapsed": 727,
     "status": "ok",
     "timestamp": 1594333020030,
     "user": {
      "displayName": "Sean Crosby",
      "photoUrl": "https://lh3.googleusercontent.com/a-/AOh14GhCX7zy_Jz5cUA8hBL4g9VAw2XFpalmH_qBf91KDCA=s64",
      "userId": "13169004125921679398"
     },
     "user_tz": 420
    },
    "id": "ShFNJ9VDhomE",
    "outputId": "4427027b-4221-4d4c-9e1e-300173c352b0"
   },
   "outputs": [
    {
     "name": "stderr",
     "output_type": "stream",
     "text": [
      "/opt/anaconda3/lib/python3.7/site-packages/pandas/plotting/_matplotlib/converter.py:103: FutureWarning: Using an implicitly registered datetime converter for a matplotlib plotting method. The converter was registered by pandas on import. Future versions of pandas will require you to explicitly register matplotlib converters.\n",
      "\n",
      "To register the converters:\n",
      "\t>>> from pandas.plotting import register_matplotlib_converters\n",
      "\t>>> register_matplotlib_converters()\n",
      "  warnings.warn(msg, FutureWarning)\n"
     ]
    },
    {
     "data": {
      "text/plain": [
       "Text(0.5, 1.0, 'My title')"
      ]
     },
     "execution_count": 7,
     "metadata": {},
     "output_type": "execute_result"
    },
    {
     "data": {
      "image/png": "[encoded data removed]",
      "text/plain": [
       "<Figure size 960x480 with 1 Axes>"
      ]
     },
     "metadata": {
      "needs_background": "light"
     },
     "output_type": "display_data"
    }
   ],
   "source": [
    "# Plot the discharge\n",
    "f = plt.figure(num=None, figsize=(12,6), dpi=80)\n",
    "plt.plot(t,Q)\n",
    "plt.xlabel('time')\n",
    "plt.ylabel('Discharge (cfs)')\n",
    "plt.title('My title')\n"
   ]
  }
 ],
 "metadata": {
  "colab": {
   "collapsed_sections": [],
   "name": "03_DownloadAndPlotStreamGauge.ipynb",
   "provenance": []
  },
  "kernelspec": {
   "display_name": "Python 3",
   "language": "python",
   "name": "python3"
  },
  "language_info": {
   "codemirror_mode": {
    "name": "ipython",
    "version": 3
   },
   "file_extension": ".py",
   "mimetype": "text/x-python",
   "name": "python",
   "nbconvert_exporter": "python",
   "pygments_lexer": "ipython3",
   "version": "3.7.4"
  }
 },
 "nbformat": 4,
 "nbformat_minor": 1
}
