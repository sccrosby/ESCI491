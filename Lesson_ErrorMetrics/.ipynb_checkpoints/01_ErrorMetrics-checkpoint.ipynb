{
 "cells": [
  {
   "cell_type": "markdown",
   "metadata": {
    "colab_type": "text",
    "id": "LwUnl23rSZDM"
   },
   "source": [
    "# Model Skill Metrics\n",
    "Numerical models are ubiquitous in the ocean sciences. A good model, has good skill when compared to observations. But what is good skill? Model skill metrics can be confusing, and what they actaully mean is not always clear. Here we will generate a fake model and some fake data to explore what \"good\" model skill might look like. For this activity we will pretend that we measured water-level and developed a model to predict those water levels. Our units will be in meters (m)"
   ]
  },
  {
   "cell_type": "code",
   "execution_count": 0,
   "metadata": {
    "colab": {},
    "colab_type": "code",
    "id": "9idgjdevRzTK"
   },
   "outputs": [],
   "source": [
    "# Importing standard packages\n",
    "import numpy as np\n",
    "import matplotlib.pyplot as plt\n",
    "from scipy.signal import savgol_filter\n",
    "import seaborn as sns\n",
    "sns.set()"
   ]
  },
  {
   "cell_type": "code",
   "execution_count": 0,
   "metadata": {
    "colab": {},
    "colab_type": "code",
    "id": "QieRjklxR370"
   },
   "outputs": [],
   "source": [
    "# Let's start by generating a background signal with some random fluctuations\n",
    "t = np.arange(0,3*np.pi,.02)\n",
    "signal = 3*np.sin(t)\n",
    "\n",
    "# Here we create a guassian distributed fluctations we can apply to model and data\n",
    "fluctuations_o = 2*np.random.randn(np.shape(t)[0]) # we can add amplitude by multiplying the fluctations by a scalar\n",
    "fluctuations_m = 1*np.random.randn(np.shape(t)[0])\n",
    "\n",
    "# Smooth these fluctuations in time to make it seem more realistic\n",
    "fluctuations_o = savgol_filter(fluctuations_o, 21, 3) # window size 51, polynomial order 3\n",
    "fluctuations_m = savgol_filter(fluctuations_m, 21, 3) # window size 51, polynomial order 3\n",
    "\n",
    "# Now let's generate some model and observations\n",
    "obs = signal+fluctuations_o\n",
    "model = signal+fluctuations_m\n",
    "\n",
    "plt.plot(t,obs,marker='.',linestyle='none',color='k',label='obs')\n",
    "plt.plot(t,model,label='model')\n",
    "plt.legend()\n",
    "plt.ylabel('Water level [m]')\n",
    "plt.xlabel('Time [hours]')"
   ]
  },
  {
   "cell_type": "markdown",
   "metadata": {
    "colab_type": "text",
    "id": "xWPr37NTU7xX"
   },
   "source": [
    "### Scatter plots \n",
    "Scatter plots of of model predictions versus observations are commmon. Observations are typically on the x-axis, with prediction on the y-axis, with a 1-1 line showing where the two deviate\n"
   ]
  },
  {
   "cell_type": "code",
   "execution_count": 0,
   "metadata": {
    "colab": {},
    "colab_type": "code",
    "id": "MDGhwpZ1TStm"
   },
   "outputs": [],
   "source": [
    "# Scatter plot, controlling figure size and limits\n",
    "plt.figure(num=None, figsize=(5,5), dpi=80)\n",
    "mylimit = [-4, 4]\n",
    "plt.plot(obs,model,marker='.',linestyle='none',color='k')\n",
    "plt.plot(mylimit,mylimit,linestyle='-',color='k')\n",
    "plt.xlim(mylimit)\n",
    "plt.ylim(mylimit)\n",
    "plt.xlabel('Observed Water level [m]')\n",
    "plt.ylabel('Predicted Water level [m]')\n"
   ]
  },
  {
   "cell_type": "markdown",
   "metadata": {
    "colab_type": "text",
    "id": "JK07I0k-VUHw"
   },
   "source": [
    "### Skill and Error metrics\n",
    "Below we calculate several different error metrics, including the correlation coefficient. We print them out below. Note how some have units, and some do not. These metrics can tell you different things about how the model performs overall, and what to expect for errors for a given prediction. "
   ]
  },
  {
   "cell_type": "code",
   "execution_count": 0,
   "metadata": {
    "colab": {},
    "colab_type": "code",
    "id": "ANHBp1JrTVYz"
   },
   "outputs": [],
   "source": [
    "# This is not a complete set, but comprises commonly used metrics\n",
    "\n",
    "# Error at each time step\n",
    "diff = model - obs\n",
    "# Squared Error\n",
    "diff_sq = np.square(diff)\n",
    "\n",
    "# Mean Squared Error (MSE)\n",
    "mse = np.mean(diff_sq)\n",
    "# Root Mean Squared Error (RMSE)\n",
    "rmse = np.sqrt(mse)\n",
    "# Mean Bias\n",
    "bias = np.mean(diff)\n",
    "\n",
    "# R-squared, Coefficient of Determination, Nash-Sutcliffe Efficiency\n",
    "obs_mean = np.mean(obs)\n",
    "R2 = 1 - np.sum(diff_sq)/np.sum(np.square(obs-obs_mean))\n",
    "\n",
    "# Willmott Skill Score (WSS)\n",
    "WSS = 1 - np.sum(diff_sq)/np.sum(np.square(np.abs(obs-obs_mean)+np.abs(model-obs_mean)))\n",
    "\n",
    "# Correlation\n",
    "rho = np.corrcoef(obs,model)\n",
    "rho = rho[0,1]\n",
    "\n",
    "# Print and summarize\n",
    "print('MSE = {:4.3f} m^2'.format(mse))\n",
    "print('RMSE = {:4.3f} m'.format(rmse))\n",
    "print('Bias = {:4.3f} m'.format(bias))\n",
    "print('R2 = {:4.3f}'.format(R2))\n",
    "print('WSS = {:4.3f}'.format(WSS))\n",
    "print('Correlation = {:4.3f}'.format(rho))\n",
    "print('Correlation-squared = {:4.3f}'.format(np.square(rho)))"
   ]
  },
  {
   "cell_type": "markdown",
   "metadata": {
    "colab_type": "text",
    "id": "Dl64jaJfXcoB"
   },
   "source": [
    "Here, RMSE is often taken as the average error expected in a prediction. You can see the units of RMSE are the same as the model and observations (m)\n",
    "\n",
    "R2, WSS, and correlation do not have units. These tell us something about how well the model performs as a whole. More specifically they tell us how well the model predicts the variance in the observed signal."
   ]
  },
  {
   "cell_type": "code",
   "execution_count": 0,
   "metadata": {
    "colab": {},
    "colab_type": "code",
    "id": "DVFx5KVGkav9"
   },
   "outputs": [],
   "source": [
    "# Let's define a function that prints all these metrics so that you can try them with different models\n",
    "def calc_skill(obs,model):\n",
    "  diff = model - obs\n",
    "  diff_sq = np.square(diff)\n",
    "  rmse = np.mean(diff_sq)\n",
    "  rmse = np.sqrt(mse)\n",
    "  bias = np.mean(diff)\n",
    "  obs_mean = np.mean(obs)\n",
    "  R2 = 1 - np.sum(diff_sq)/np.sum(np.square(obs-obs_mean))\n",
    "  WSS = 1 - np.sum(diff_sq)/np.sum(np.square(np.abs(obs-obs_mean)+np.abs(model-obs_mean)))\n",
    "  rho = np.corrcoef(obs,model)\n",
    "  rho = rho[0,1]\n",
    "  print('MSE = {:4.3f} m^2'.format(mse))\n",
    "  print('RMSE = {:4.3f} m'.format(rmse))\n",
    "  print('Bias = {:4.3f} m'.format(bias))\n",
    "  print('R2 = {:4.3f}'.format(R2))\n",
    "  print('WSS = {:4.3f}'.format(WSS))\n",
    "  print('Correlation = {:4.3f}'.format(rho))\n",
    "  print('Correlation-squared = {:4.3f}'.format(np.square(rho)))"
   ]
  },
  {
   "cell_type": "code",
   "execution_count": 0,
   "metadata": {
    "colab": {},
    "colab_type": "code",
    "id": "xxAt6PyUYiKv"
   },
   "outputs": [],
   "source": [
    "# You can use the function simply by calling at seen below\n",
    "calc_skill(obs,model)"
   ]
  },
  {
   "cell_type": "markdown",
   "metadata": {
    "colab_type": "text",
    "id": "A5TXbnDyWJio"
   },
   "source": [
    "### Activity 1: Is correlation always a good metric of model skill?\n",
    "1. Compare the WSS, R2, and correlation skill for the two models below\n",
    "2. Make scatter plots of both models and describe graphically (qualitatively) their skill"
   ]
  },
  {
   "cell_type": "code",
   "execution_count": 0,
   "metadata": {
    "colab": {},
    "colab_type": "code",
    "id": "JC7FMgdCWSpB"
   },
   "outputs": [],
   "source": [
    "# Create two models\n",
    "fluctuations_o = 2*np.random.randn(np.shape(t)[0]) # we can add amplitude by multiplying the fluctations by a scalar\n",
    "fluctuations_m = 1*np.random.randn(np.shape(t)[0])\n",
    "fluctuations_o = savgol_filter(fluctuations_o, 21, 3) # window size 51, polynomial order 3\n",
    "fluctuations_m = savgol_filter(fluctuations_m, 21, 3) # window size 51, polynomial order 3\n",
    "obs = signal+fluctuations_o\n",
    "# Model 1\n",
    "model_1 = signal+fluctuations_m\n",
    "# Model 2\n",
    "model_2 = 0.5*signal+fluctuations_m"
   ]
  },
  {
   "cell_type": "code",
   "execution_count": 0,
   "metadata": {
    "colab": {},
    "colab_type": "code",
    "id": "1bAW1EzxYdlC"
   },
   "outputs": [],
   "source": [
    "# Step 1: Use calc_skill to calcuate model skill for both models\n",
    "\n",
    "\n"
   ]
  },
  {
   "cell_type": "code",
   "execution_count": 0,
   "metadata": {
    "colab": {},
    "colab_type": "code",
    "id": "d_toMHxoY-cx"
   },
   "outputs": [],
   "source": [
    "# Step 2: Plot scatter plots for both models\n",
    "\n",
    "\n"
   ]
  },
  {
   "cell_type": "markdown",
   "metadata": {
    "colab_type": "text",
    "id": "8c5iXeMdZbDQ"
   },
   "source": [
    "### Activity 2: R2\n",
    "In hydrology an R2 > 0.6 is often taken as cut-off for a good model. But what does look like?\n",
    "1. What does R2 = 0.9 and R2 = 0.6 look like? Adjust the amplitude of fluctuations_m to create a model with R2=0.9 and R2=0.6\n",
    "2. Plot time series of both predictions to see how different they look"
   ]
  },
  {
   "cell_type": "code",
   "execution_count": 0,
   "metadata": {
    "colab": {},
    "colab_type": "code",
    "id": "6jRxJf0zaaan"
   },
   "outputs": [],
   "source": [
    "# Step 1\n",
    "# Create fluctuations\n",
    "fluctuations_o = 1*np.random.randn(np.shape(t)[0]) \n",
    "fluctuations_m = 4*np.random.randn(np.shape(t)[0]) # <--- Adjust the scalar value here\n",
    "# Smooth fluctuations\n",
    "fluctuations_o = savgol_filter(fluctuations_o, 21, 3) # window size 51, polynomial order 3\n",
    "fluctuations_m = savgol_filter(fluctuations_m, 21, 3) # window size 51, polynomial order 3\n",
    "# Create obs/models\n",
    "obs = signal+fluctuations_o\n",
    "model_1 = signal+fluctuations_m\n",
    "\n",
    "# Calc skill\n",
    "calc_skill(obs,model_1) "
   ]
  },
  {
   "cell_type": "code",
   "execution_count": 0,
   "metadata": {
    "colab": {},
    "colab_type": "code",
    "id": "OS4loHGlauLW"
   },
   "outputs": [],
   "source": [
    "# Step 2: Plot time series of both models\n",
    "\n",
    "\n",
    "\n",
    "\n"
   ]
  }
 ],
 "metadata": {
  "colab": {
   "authorship_tag": "ABX9TyPmWQmMhAVi17LLvZADeer/",
   "collapsed_sections": [],
   "name": "O4_ErrorMetrics",
   "provenance": []
  },
  "kernelspec": {
   "display_name": "Python 3",
   "language": "python",
   "name": "python3"
  },
  "language_info": {
   "codemirror_mode": {
    "name": "ipython",
    "version": 3
   },
   "file_extension": ".py",
   "mimetype": "text/x-python",
   "name": "python",
   "nbconvert_exporter": "python",
   "pygments_lexer": "ipython3",
   "version": "3.8.5"
  }
 },
 "nbformat": 4,
 "nbformat_minor": 1
}
